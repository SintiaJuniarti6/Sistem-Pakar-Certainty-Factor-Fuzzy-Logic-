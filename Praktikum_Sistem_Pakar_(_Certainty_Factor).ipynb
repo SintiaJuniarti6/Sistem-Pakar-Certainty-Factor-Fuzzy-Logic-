{
  "nbformat": 4,
  "nbformat_minor": 0,
  "metadata": {
    "colab": {
      "provenance": [],
      "authorship_tag": "ABX9TyO62dANS9VB0GR1WZEVYLaf",
      "include_colab_link": true
    },
    "kernelspec": {
      "name": "python3",
      "display_name": "Python 3"
    },
    "language_info": {
      "name": "python"
    }
  },
  "cells": [
    {
      "cell_type": "markdown",
      "metadata": {
        "id": "view-in-github",
        "colab_type": "text"
      },
      "source": [
        "<a href=\"https://colab.research.google.com/github/SintiaJuniarti6/Sistem-Pakar-Certainty-Factor-Fuzzy-Logic-/blob/main/Praktikum_Sistem_Pakar_(_Certainty_Factor).ipynb\" target=\"_parent\"><img src=\"https://colab.research.google.com/assets/colab-badge.svg\" alt=\"Open In Colab\"/></a>"
      ]
    },
    {
      "cell_type": "code",
      "execution_count": 7,
      "metadata": {
        "colab": {
          "base_uri": "https://localhost:8080/"
        },
        "id": "a1zCKy0ItQx9",
        "outputId": "0820ed93-de9a-4480-9154-a7e35dc16cd2"
      },
      "outputs": [
        {
          "output_type": "stream",
          "name": "stdout",
          "text": [
            "CF diagnosis Flu: 0.93\n"
          ]
        }
      ],
      "source": [
        "gejala_user = {\n",
        "    \"demam\": 0.2,\n",
        "    \"batuk\": 0.5,\n",
        "    \"sakit_tenggorokan\": 0.6,\n",
        "    \"hidung_tersumbat\": 0.6,\n",
        "    \"bersin\": 0.5,\n",
        "    \"sakit_kepala\": 0.4,\n",
        "    \"nyeri_otot\": 0.5,\n",
        "    \"menggigil\": 0.3\n",
        "}\n",
        "\n",
        "pengetahuan = {\n",
        "    \"flu\": {\n",
        "        \"demam\": 0.8,\n",
        "        \"batuk\": 0.7,\n",
        "        \"sakit_tenggorokan\": 0.6,\n",
        "        \"hidung_tersumbat\": 0.7,\n",
        "        \"bersin\": 0.6,\n",
        "        \"sakit_kepala\": 0.6,\n",
        "        \"nyeri_otot\": 0.5,\n",
        "        \"menggigil\": 0.4\n",
        "    }\n",
        "}\n",
        "\n",
        "def hitung_cf(gejala_user, pengetahuan_pakar):\n",
        "    cf_total = 0\n",
        "    first = True\n",
        "    for gejala, cf_user in gejala_user.items():\n",
        "        if gejala in pengetahuan_pakar:\n",
        "            cf_pakar = pengetahuan_pakar[gejala]\n",
        "            cf = cf_user * cf_pakar\n",
        "            if first:\n",
        "                cf_total = cf\n",
        "                first = False\n",
        "            else:\n",
        "                cf_total = cf_total + cf * (1 - cf_total)\n",
        "    return cf_total\n",
        "\n",
        "cf_flu = hitung_cf(gejala_user, pengetahuan[\"flu\"])\n",
        "print(f\"CF diagnosis Flu: {cf_flu:.2f}\")\n",
        "\n",
        "# Setelah nilai CF gejala 'demam' diturunkan ke 0.2,CF total menurun karena 'demam' adalah gejala kunci untuk flu.\n",
        "# dengan penambahan  5 gejala lain membantu meningkatkan keyakinan total terhadap diagnosis flu.\n",
        "\n",
        "\n"
      ]
    },
    {
      "cell_type": "code",
      "source": [
        "gejala_user = {\n",
        "    \"nyeri_sendi\": 0.8,\n",
        "    \"bengkak_sendi\": 0.7,\n",
        "    \"kaku_sendi_pagi\": 0.9,\n",
        "    \"demam_ringan\": 0.3\n",
        "}\n",
        "\n",
        "pengetahuan = {\n",
        "    \"rheumatoid_arthritis\": {\n",
        "        \"nyeri_sendi\": 0.9,\n",
        "        \"bengkak_sendi\": 0.8,\n",
        "        \"kaku_sendi_pagi\": 0.9,\n",
        "        \"demam_ringan\": 0.4\n",
        "    },\n",
        "    \"osteoarthritis\": {\n",
        "        \"nyeri_sendi\": 0.8,\n",
        "        \"bengkak_sendi\": 0.6,\n",
        "        \"kaku_sendi_pagi\": 0.5\n",
        "    }\n",
        "}\n",
        "\n",
        "def hitung_cf(gejala_user, pengetahuan_pakar):\n",
        "    cf_total = 0\n",
        "    first = True\n",
        "    for gejala, cf_user in gejala_user.items():\n",
        "        if gejala in pengetahuan_pakar:\n",
        "            cf_pakar = pengetahuan_pakar[gejala]\n",
        "            cf = cf_user * cf_pakar\n",
        "            if first:\n",
        "                cf_total = cf\n",
        "                first = False\n",
        "            else:\n",
        "                cf_total = cf_total + cf * (1 - cf_total)\n",
        "    return cf_total\n",
        "\n",
        "# Mendiagnosa dua penyakit berdasarkan gejala yang sama\n",
        "for penyakit in pengetahuan:\n",
        "    cf_result = hitung_cf(gejala_user, pengetahuan[penyakit])\n",
        "    print(f\"CF diagnosis {penyakit}: {cf_result:.2f}\")"
      ],
      "metadata": {
        "colab": {
          "base_uri": "https://localhost:8080/"
        },
        "id": "bBajFOxPwFuF",
        "outputId": "d0fc4f57-6c1a-4bea-e27f-ffbd42daafe9"
      },
      "execution_count": 8,
      "outputs": [
        {
          "output_type": "stream",
          "name": "stdout",
          "text": [
            "CF diagnosis rheumatoid_arthritis: 0.98\n",
            "CF diagnosis osteoarthritis: 0.89\n"
          ]
        }
      ]
    },
    {
      "cell_type": "code",
      "source": [
        "# Example 4: Diabetes Diagnosis with Weighted Symptoms\n",
        "\n",
        "gejala_user = {\n",
        "    \"sering_haus\": 0.8,\n",
        "    \"sering_buang_air_kecil\": 0.9,\n",
        "    \"penurunan_berat_badan\": 0.6,\n",
        "    \"luka_lambat_sembuh\": 0.7,\n",
        "    \"penglihatan_kabur\": 0.5\n",
        "}\n",
        "\n",
        "# Pengetahuan pakar dengan bobot gejala\n",
        "pengetahuan = {\n",
        "    \"diabetes_tipe1\": {\n",
        "        \"sering_haus\": 0.9,\n",
        "        \"sering_buang_air_kecil\": 0.9,\n",
        "        \"penurunan_berat_badan\": 0.8,\n",
        "        \"luka_lambat_sembuh\": 0.5\n",
        "    },\n",
        "    \"diabetes_tipe2\": {\n",
        "        \"sering_haus\": 0.7,\n",
        "        \"sering_buang_air_kecil\": 0.7,\n",
        "        \"penurunan_berat_badan\": 0.5,\n",
        "        \"luka_lambat_sembuh\": 0.8,\n",
        "        \"penglihatan_kabur\": 0.6\n",
        "    }\n",
        "}\n",
        "\n",
        "# Bobot kepentingan gejala (1-5)\n",
        "bobot_gejala = {\n",
        "    \"sering_haus\": 4,\n",
        "    \"sering_buang_air_kecil\": 4,\n",
        "    \"penurunan_berat_badan\": 3,\n",
        "    \"luka_lambat_sembuh\": 5,\n",
        "    \"penglihatan_kabur\": 2\n",
        "}\n",
        "\n",
        "def hitung_cf_weighted(gejala_user, pengetahuan_pakar, bobot):\n",
        "    cf_total = 0\n",
        "    first = True\n",
        "    total_bobot = 0\n",
        "\n",
        "    for gejala, cf_user in gejala_user.items():\n",
        "        if gejala in pengetahuan_pakar and gejala in bobot:\n",
        "            cf_pakar = pengetahuan_pakar[gejala]\n",
        "            gejala_weight = bobot[gejala] / 5  # Normalisasi bobot (1–5) -> (0.2–1.0)\n",
        "            cf = cf_user * cf_pakar * gejala_weight\n",
        "\n",
        "            if first:\n",
        "                cf_total = cf\n",
        "                first = False\n",
        "            else:\n",
        "                cf_total = cf_total + cf * (1 - cf_total)\n",
        "\n",
        "            total_bobot += gejala_weight\n",
        "\n",
        "    # Normalisasi hasil berdasarkan total bobot\n",
        "    if total_bobot > 0:\n",
        "        cf_total = cf_total / total_bobot * len([g for g in gejala_user if g in pengetahuan_pakar])\n",
        "\n",
        "    return cf_total\n",
        "\n",
        "\n",
        "for penyakit in pengetahuan:\n",
        "    cf_result = hitung_cf_weighted(gejala_user, pengetahuan[penyakit], bobot_gejala)\n",
        "    print(f\"CF diagnosis {penyakit}: {cf_result:.2f}\")"
      ],
      "metadata": {
        "colab": {
          "base_uri": "https://localhost:8080/"
        },
        "id": "xxWMYe1xwM5D",
        "outputId": "4eeba3b8-ef64-4ef1-b0fd-fb0da41418cd"
      },
      "execution_count": 9,
      "outputs": [
        {
          "output_type": "stream",
          "name": "stdout",
          "text": [
            "CF diagnosis diabetes_tipe1: 1.16\n",
            "CF diagnosis diabetes_tipe2: 1.27\n"
          ]
        }
      ]
    }
  ]
}